{
 "metadata": {
  "language_info": {
   "codemirror_mode": {
    "name": "ipython",
    "version": 3
   },
   "file_extension": ".py",
   "mimetype": "text/x-python",
   "name": "python",
   "nbconvert_exporter": "python",
   "pygments_lexer": "ipython3",
   "version": "3.8.5-final"
  },
  "orig_nbformat": 2,
  "kernelspec": {
   "name": "python3",
   "display_name": "Python 3.8.5 64-bit ('pytorch': conda)",
   "metadata": {
    "interpreter": {
     "hash": "443e8275667bdcde386ff29fc5bee6a13d42dea67e60886646792e6eed77a009"
    }
   }
  }
 },
 "nbformat": 4,
 "nbformat_minor": 2,
 "cells": [
  {
   "cell_type": "code",
   "execution_count": 36,
   "metadata": {},
   "outputs": [],
   "source": [
    "import pandas as pd\n",
    "import matplotlib.pyplot as plt\n",
    "import os"
   ]
  },
  {
   "cell_type": "code",
   "execution_count": 2,
   "metadata": {},
   "outputs": [],
   "source": [
    "five_fold = []\n",
    "for i in range(5):\n",
    "    data = pd.read_csv(\"data/fold_{}_data.txt\".format(i), sep=\"\\t\")\n",
    "    five_fold.append(data)"
   ]
  },
  {
   "cell_type": "code",
   "execution_count": 3,
   "metadata": {},
   "outputs": [],
   "source": [
    "data_fold_0 = pd.read_csv(\"data/fold_0_data.txt\", sep=\"\\t\")"
   ]
  },
  {
   "cell_type": "code",
   "execution_count": 18,
   "metadata": {},
   "outputs": [],
   "source": [
    "total = pd.concat(five_fold).reset_index()"
   ]
  },
  {
   "cell_type": "code",
   "execution_count": 25,
   "metadata": {},
   "outputs": [],
   "source": [
    "total = total.drop(index=total[total['age'] == 'None'].index, axis=0)\n",
    "total = total.drop(index=total[total['gender'].isna()].index, axis=0)\n",
    "total = total.reset_index()\n",
    "total = total.drop(columns=['index', 'level_0'], axis=1)"
   ]
  },
  {
   "cell_type": "code",
   "execution_count": 34,
   "metadata": {},
   "outputs": [
    {
     "output_type": "execute_result",
     "data": {
      "text/plain": [
       "        user_id                original_image  face_id       age gender     x  \\\n",
       "0  30601258@N03  10399646885_67c7d20df9_o.jpg        1  (25, 32)      f     0   \n",
       "1  30601258@N03  10424815813_e94629b1ec_o.jpg        2  (25, 32)      m   301   \n",
       "2  30601258@N03  10437979845_5985be4b26_o.jpg        1  (25, 32)      f  2395   \n",
       "3  30601258@N03  10437979845_5985be4b26_o.jpg        3  (25, 32)      m   752   \n",
       "4  30601258@N03  11816644924_075c3d8d59_o.jpg        2  (25, 32)      m   175   \n",
       "\n",
       "      y    dx    dy  tilt_ang  fiducial_yaw_angle  fiducial_score  \n",
       "0   414  1086  1383      -115                  30              17  \n",
       "1   105   640   641         0                   0              94  \n",
       "2   876   771   771       175                 -30              74  \n",
       "3  1255   484   485       180                   0              47  \n",
       "4    80   769   768       -75                   0              34  "
      ],
      "text/html": "<div>\n<style scoped>\n    .dataframe tbody tr th:only-of-type {\n        vertical-align: middle;\n    }\n\n    .dataframe tbody tr th {\n        vertical-align: top;\n    }\n\n    .dataframe thead th {\n        text-align: right;\n    }\n</style>\n<table border=\"1\" class=\"dataframe\">\n  <thead>\n    <tr style=\"text-align: right;\">\n      <th></th>\n      <th>user_id</th>\n      <th>original_image</th>\n      <th>face_id</th>\n      <th>age</th>\n      <th>gender</th>\n      <th>x</th>\n      <th>y</th>\n      <th>dx</th>\n      <th>dy</th>\n      <th>tilt_ang</th>\n      <th>fiducial_yaw_angle</th>\n      <th>fiducial_score</th>\n    </tr>\n  </thead>\n  <tbody>\n    <tr>\n      <th>0</th>\n      <td>30601258@N03</td>\n      <td>10399646885_67c7d20df9_o.jpg</td>\n      <td>1</td>\n      <td>(25, 32)</td>\n      <td>f</td>\n      <td>0</td>\n      <td>414</td>\n      <td>1086</td>\n      <td>1383</td>\n      <td>-115</td>\n      <td>30</td>\n      <td>17</td>\n    </tr>\n    <tr>\n      <th>1</th>\n      <td>30601258@N03</td>\n      <td>10424815813_e94629b1ec_o.jpg</td>\n      <td>2</td>\n      <td>(25, 32)</td>\n      <td>m</td>\n      <td>301</td>\n      <td>105</td>\n      <td>640</td>\n      <td>641</td>\n      <td>0</td>\n      <td>0</td>\n      <td>94</td>\n    </tr>\n    <tr>\n      <th>2</th>\n      <td>30601258@N03</td>\n      <td>10437979845_5985be4b26_o.jpg</td>\n      <td>1</td>\n      <td>(25, 32)</td>\n      <td>f</td>\n      <td>2395</td>\n      <td>876</td>\n      <td>771</td>\n      <td>771</td>\n      <td>175</td>\n      <td>-30</td>\n      <td>74</td>\n    </tr>\n    <tr>\n      <th>3</th>\n      <td>30601258@N03</td>\n      <td>10437979845_5985be4b26_o.jpg</td>\n      <td>3</td>\n      <td>(25, 32)</td>\n      <td>m</td>\n      <td>752</td>\n      <td>1255</td>\n      <td>484</td>\n      <td>485</td>\n      <td>180</td>\n      <td>0</td>\n      <td>47</td>\n    </tr>\n    <tr>\n      <th>4</th>\n      <td>30601258@N03</td>\n      <td>11816644924_075c3d8d59_o.jpg</td>\n      <td>2</td>\n      <td>(25, 32)</td>\n      <td>m</td>\n      <td>175</td>\n      <td>80</td>\n      <td>769</td>\n      <td>768</td>\n      <td>-75</td>\n      <td>0</td>\n      <td>34</td>\n    </tr>\n  </tbody>\n</table>\n</div>"
     },
     "metadata": {},
     "execution_count": 34
    }
   ],
   "source": [
    "total.head()"
   ]
  },
  {
   "cell_type": "code",
   "execution_count": 44,
   "metadata": {},
   "outputs": [
    {
     "output_type": "execute_result",
     "data": {
      "text/plain": [
       "        user_id                original_image  face_id       age gender  x  \\\n",
       "0  30601258@N03  10399646885_67c7d20df9_o.jpg        1  (25, 32)      f  0   \n",
       "\n",
       "     y    dx    dy  tilt_ang  fiducial_yaw_angle  fiducial_score  \n",
       "0  414  1086  1383      -115                  30              17  "
      ],
      "text/html": "<div>\n<style scoped>\n    .dataframe tbody tr th:only-of-type {\n        vertical-align: middle;\n    }\n\n    .dataframe tbody tr th {\n        vertical-align: top;\n    }\n\n    .dataframe thead th {\n        text-align: right;\n    }\n</style>\n<table border=\"1\" class=\"dataframe\">\n  <thead>\n    <tr style=\"text-align: right;\">\n      <th></th>\n      <th>user_id</th>\n      <th>original_image</th>\n      <th>face_id</th>\n      <th>age</th>\n      <th>gender</th>\n      <th>x</th>\n      <th>y</th>\n      <th>dx</th>\n      <th>dy</th>\n      <th>tilt_ang</th>\n      <th>fiducial_yaw_angle</th>\n      <th>fiducial_score</th>\n    </tr>\n  </thead>\n  <tbody>\n    <tr>\n      <th>0</th>\n      <td>30601258@N03</td>\n      <td>10399646885_67c7d20df9_o.jpg</td>\n      <td>1</td>\n      <td>(25, 32)</td>\n      <td>f</td>\n      <td>0</td>\n      <td>414</td>\n      <td>1086</td>\n      <td>1383</td>\n      <td>-115</td>\n      <td>30</td>\n      <td>17</td>\n    </tr>\n  </tbody>\n</table>\n</div>"
     },
     "metadata": {},
     "execution_count": 44
    }
   ],
   "source": [
    "total[total['original_image'] == '10399646885_67c7d20df9_o.jpg']"
   ]
  },
  {
   "cell_type": "code",
   "execution_count": 39,
   "metadata": {},
   "outputs": [
    {
     "output_type": "stream",
     "name": "stdout",
     "text": [
      "coarse_tilt_aligned_face.1.10399646885_67c7d20df9_o.jpg\nlandmarks.1.10399646885_67c7d20df9_o.txt\n"
     ]
    }
   ],
   "source": [
    "for name in os.listdir(os.path.join('data/faces', total['user_id'][0])):\n",
    "    if name.__contains__(\"10399646885_67c7d20df9_o\"):\n",
    "        print(name)"
   ]
  },
  {
   "cell_type": "code",
   "execution_count": 45,
   "metadata": {},
   "outputs": [],
   "source": [
    "image_format =  \"coarse_tilt_aligned_face.{}.{}.jpg\""
   ]
  },
  {
   "cell_type": "code",
   "execution_count": 51,
   "metadata": {},
   "outputs": [],
   "source": [
    "with open(\"data/face_info.csv\", \"a+\") as f:\n",
    "    for l in total.values:\n",
    "        filename = image_format.format(l[2], l[1].split('.')[0])\n",
    "        folder_name = l[0]\n",
    "        if not os.path.exists(os.path.join(\"data/faces\", folder_name, filename)):\n",
    "            print(filename)\n",
    "        else:\n",
    "            f.write(\"{}\\t{}\\t{}\\n\".format(os.path.join(\"data/faces\", folder_name, filename), l[3], l[4]))"
   ]
  }
 ]
}